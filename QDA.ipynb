{
 "cells": [
  {
   "cell_type": "code",
   "execution_count": 1,
   "id": "9396c087",
   "metadata": {},
   "outputs": [],
   "source": [
    "import os\n",
    "import numpy as np\n",
    "from sklearn.discriminant_analysis import QuadraticDiscriminantAnalysis\n",
    "from sklearn.model_selection import GridSearchCV\n",
    "from sklearn.metrics import classification_report, make_scorer, recall_score\n",
    "from PIL import Image\n",
    "from glob import glob\n",
    "from sklearn.svm import SVC"
   ]
  },
  {
   "cell_type": "code",
   "execution_count": null,
   "id": "04e750ff",
   "metadata": {},
   "outputs": [],
   "source": [
    "def load_images_and_masks_gray(folder, img_ext='jpg', mask_ext='png'):\n",
    "    X = []\n",
    "    y = []\n",
    "    img_paths = sorted(glob(os.path.join(folder, f'*.{img_ext}')))\n",
    "    for img_path in img_paths:\n",
    "        base = os.path.splitext(os.path.basename(img_path))[0]\n",
    "        \n",
    "        if base.endswith('_BCI'):\n",
    "            mask_base = base[:-4]  \n",
    "        else:\n",
    "            mask_base = base\n",
    "        \n",
    "        mask_path = os.path.join(folder, f'{mask_base}.{mask_ext}')\n",
    "        if os.path.exists(mask_path):\n",
    "            img = np.array(Image.open(img_path).convert('L'))   \n",
    "            mask = np.array(Image.open(mask_path).convert('L'))\n",
    "            mask_bin = (mask > 127).astype(np.uint8)\n",
    "            X.append(img.reshape(-1, 1))                     \n",
    "            y.append(mask_bin.flatten())\n",
    "        else:\n",
    "            print(f'No mask found for {img_path}')\n",
    "    X = np.concatenate(X, axis=0)\n",
    "    y = np.concatenate(y, axis=0)\n",
    "    return X, y"
   ]
  },
  {
   "cell_type": "code",
   "execution_count": null,
   "id": "024a9c4c",
   "metadata": {},
   "outputs": [],
   "source": [
    "def load_images_and_masks(folder, img_ext='jpg', mask_ext='png'):\n",
    "    X = []\n",
    "    y = []\n",
    "    img_paths = sorted(glob(os.path.join(folder, f'*.{img_ext}')))\n",
    "    for img_path in img_paths:\n",
    "        base = os.path.splitext(os.path.basename(img_path))[0]\n",
    "        \n",
    "        if base.endswith('_BCI'):\n",
    "            mask_base = base[:-4]\n",
    "        else:\n",
    "            mask_base = base\n",
    "        \n",
    "        mask_path = os.path.join(folder, f'{mask_base}.{mask_ext}')\n",
    "        if os.path.exists(mask_path):\n",
    "            img = np.array(Image.open(img_path).convert('RGB'))\n",
    "            mask = np.array(Image.open(mask_path).convert('L'))\n",
    "            mask_bin = (mask > 127).astype(np.uint8)\n",
    "            X.append(img.reshape(-1, 3))\n",
    "            y.append(mask_bin.flatten())\n",
    "        else:\n",
    "            print(f'No mask found for {img_path}')\n",
    "    X = np.concatenate(X, axis=0)\n",
    "    y = np.concatenate(y, axis=0)\n",
    "    return X, y\n",
    "\n"
   ]
  },
  {
   "cell_type": "code",
   "execution_count": null,
   "id": "55a2e61a",
   "metadata": {},
   "outputs": [],
   "source": [
    "train_imgs = 'train_dir'\n",
    "\n",
    "X, y = load_images_and_masks(train_imgs)"
   ]
  },
  {
   "cell_type": "code",
   "execution_count": null,
   "id": "309986b1",
   "metadata": {},
   "outputs": [],
   "source": [
    "param_grid = {'reg_param': np.linspace(0, 1, 11)}\n",
    "\n",
    "qda = QuadraticDiscriminantAnalysis()\n",
    "\n",
    "grid = GridSearchCV(qda, param_grid, cv=3, n_jobs=-1, scoring='balanced_accuracy')\n",
    "grid.fit(X, y)"
   ]
  },
  {
   "cell_type": "code",
   "execution_count": null,
   "id": "9bbadd4b",
   "metadata": {},
   "outputs": [],
   "source": [
    "\n",
    "y_pred = grid.predict(X)\n",
    "print(classification_report(y, y_pred))"
   ]
  },
  {
   "cell_type": "code",
   "execution_count": null,
   "id": "2f161982",
   "metadata": {},
   "outputs": [],
   "source": [
    "y_pred = grid.predict(X)\n",
    "print(classification_report(y, y_pred))"
   ]
  },
  {
   "cell_type": "code",
   "execution_count": null,
   "id": "7bea25f4",
   "metadata": {},
   "outputs": [],
   "source": [
    "test_folder = 'test_dir'\n",
    "test_imgs = [f for f in os.listdir(test_folder) if f.endswith('.jpg')]\n",
    "\n",
    "modelo = grid.best_estimator_ \n",
    "\n",
    "for test_img in test_imgs:\n",
    "    img_path = os.path.join(test_folder, test_img)\n",
    "    img = Image.open(img_path).convert('RGB')\n",
    "    img_np = np.array(img)\n",
    "    h, w, c = img_np.shape\n",
    "    \n",
    "    X_test = img_np.reshape(-1, 3)\n",
    "    y_pred = modelo.predict(X_test)\n",
    "    \n",
    "    mask_pred = y_pred.reshape(h, w).astype(np.uint8) * 255\n",
    "    \n",
    "    pred_mask_img = Image.fromarray(mask_pred)\n",
    "    pred_mask_img.save(os.path.join(test_folder, f'{os.path.splitext(test_img)[0]}_qda_mask.png'))\n"
   ]
  },
  {
   "cell_type": "markdown",
   "id": "9c11749f",
   "metadata": {},
   "source": [
    "## Segmentation BCI"
   ]
  },
  {
   "cell_type": "code",
   "execution_count": null,
   "id": "bb50aaa0",
   "metadata": {},
   "outputs": [],
   "source": [
    "train_imgs = 'train_bci_dir'\n",
    "\n",
    "X, y = load_images_and_masks_gray(train_imgs)"
   ]
  },
  {
   "cell_type": "code",
   "execution_count": null,
   "id": "4763e0be",
   "metadata": {},
   "outputs": [],
   "source": [
    "param_grid = {\n",
    "    'reg_param': np.linspace(0, 1, 11) \n",
    "}\n",
    "\n",
    "qda = QuadraticDiscriminantAnalysis()\n",
    "grid = GridSearchCV(qda, param_grid, cv=3, scoring = 'roc_auc')\n",
    "grid.fit(X, y)"
   ]
  },
  {
   "cell_type": "code",
   "execution_count": null,
   "id": "abf44ec4",
   "metadata": {},
   "outputs": [],
   "source": [
    "y_pred = grid.predict(X)\n",
    "print(classification_report(y, y_pred))"
   ]
  },
  {
   "cell_type": "code",
   "execution_count": null,
   "id": "ad49c671",
   "metadata": {},
   "outputs": [],
   "source": [
    "print(classification_report(y, y_pred))"
   ]
  },
  {
   "cell_type": "code",
   "execution_count": null,
   "id": "dd069752",
   "metadata": {},
   "outputs": [],
   "source": [
    "test_folder = 'test_BCI_image'\n",
    "test_imgs = [f for f in os.listdir(test_folder) if f.endswith('.jpg')]\n",
    "\n",
    "modelo = grid.best_estimator_ \n",
    "\n",
    "for test_img in test_imgs:\n",
    "    img_path = os.path.join(test_folder, test_img)\n",
    "    img = Image.open(img_path).convert('L') \n",
    "    img_np = np.array(img)\n",
    "    h, w = img_np.shape \n",
    "    \n",
    "    X_test = img_np.reshape(-1, 1) \n",
    "    y_pred = modelo.predict(X_test)\n",
    "    \n",
    "    mask_pred = y_pred.reshape(h, w).astype(np.uint8) * 255\n",
    "\n",
    "    pred_mask_img = Image.fromarray(mask_pred)\n",
    "    pred_mask_img.save(os.path.join(test_folder, f'{os.path.splitext(test_img)[0]}_qda_mask.png'))\n"
   ]
  }
 ],
 "metadata": {
  "kernelspec": {
   "display_name": "Python 3",
   "language": "python",
   "name": "python3"
  },
  "language_info": {
   "codemirror_mode": {
    "name": "ipython",
    "version": 3
   },
   "file_extension": ".py",
   "mimetype": "text/x-python",
   "name": "python",
   "nbconvert_exporter": "python",
   "pygments_lexer": "ipython3",
   "version": "3.9.6"
  }
 },
 "nbformat": 4,
 "nbformat_minor": 5
}
